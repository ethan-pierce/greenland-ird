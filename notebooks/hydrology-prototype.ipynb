{
 "cells": [
  {
   "cell_type": "code",
   "execution_count": 1,
   "id": "f086e22e-fbd5-4554-9e1b-a3b048aeba7e",
   "metadata": {},
   "outputs": [],
   "source": [
    "import numpy as np\n",
    "import matplotlib.pyplot as plt\n",
    "import scipy\n",
    "\n",
    "import sys\n",
    "sys.path.append('/home/egp/repos/greenland-ird/basis/')\n",
    "\n",
    "from components.subglacial_drainage_system import SubglacialDrainageSystem\n",
    "from landlab import RasterModelGrid\n",
    "from landlab.plot import imshow_grid"
   ]
  },
  {
   "cell_type": "code",
   "execution_count": 2,
   "id": "354b3299-8d4d-4e84-b102-31aa28f2dfd5",
   "metadata": {},
   "outputs": [],
   "source": [
    "def H_of_x(x):\n",
    "    return 1160 * np.sqrt(1 - x / 10000)\n",
    "\n",
    "def B_of_x(x):\n",
    "    return np.where(x < 5000, 100.0, (10000 - x + 1) / 50)\n",
    "\n",
    "def sliding(grid):\n",
    "    gamma = 9e-13\n",
    "    thickness_at_links = grid.map_mean_of_link_nodes_to_link('ice__thickness')\n",
    "    surface_elevation = grid.at_node['ice__thickness'][:] + grid.at_node['bedrock__elevation'][:]\n",
    "    driving_stress = 917 * 9.81 * thickness_at_links * grid.calc_grad_at_link(surface_elevation)\n",
    "\n",
    "    sliding = 20 * np.exp(1 - 1e5 / (driving_stress + 1e3))\n",
    "    sliding[grid.status_at_link != 0] = 0.0\n",
    "    return sliding"
   ]
  },
  {
   "cell_type": "code",
   "execution_count": 19,
   "id": "65703191-54fe-4883-ba86-e806f5a0c03b",
   "metadata": {},
   "outputs": [],
   "source": [
    "grid = RasterModelGrid((100, 100), 100.)\n",
    "grid.status_at_node[grid.boundary_nodes] = grid.BC_NODE_IS_CLOSED\n",
    "\n",
    "grid.add_field('ice__thickness', H_of_x(grid.node_x), at = 'node')\n",
    "grid.add_field('bedrock__elevation', B_of_x(grid.node_x), at = 'node')\n",
    "grid.add_field('ice__sliding_velocity', sliding(grid) / 31556926, at = 'link')\n",
    "grid.add_field('meltwater__input', np.full(grid.shape, 1.15e-7), at = 'node')\n",
    "\n",
    "grid.add_field('water__discharge', np.full(grid.number_of_links, 1.15e-7 * np.mean(grid.area_of_patch)), at = 'link')\n",
    "grid.add_field('effective_pressure', 917 * 9.81 * grid.map_mean_of_link_nodes_to_link('ice__thickness'), at = 'link')\n",
    "grid.add_field('water__pressure', grid.map_mean_of_links_to_node('effective_pressure') * 0.9, at = 'node')\n",
    "grid.add_zeros('hydraulic__gradient', at = 'link')\n",
    "grid.add_zeros('conduit__area', at = 'link')\n",
    "\n",
    "SDS = SubglacialDrainageSystem(grid)\n",
    "grid.at_link['hydraulic__gradient'][:] = SDS._calc_base_hydraulic_gradient()"
   ]
  },
  {
   "cell_type": "code",
   "execution_count": 20,
   "id": "0ff45f4e-79c8-4ea2-88ee-842af7a6c514",
   "metadata": {},
   "outputs": [],
   "source": [
    "dt = 10\n",
    "solution = SDS._iter_RK4(SDS._RHS, SDS._build_solution_tensor(to_array = True), dt)\n",
    "grid.at_link['conduit__area'][:] = np.array(solution[2])"
   ]
  },
  {
   "cell_type": "code",
   "execution_count": 22,
   "id": "410ec687-3d85-49f6-9a63-a63a47e71d56",
   "metadata": {},
   "outputs": [],
   "source": [
    "pw = SDS._find_root(SDS._conserve_mass_at_nodes, grid.at_node['water__pressure'][:])"
   ]
  },
  {
   "cell_type": "code",
   "execution_count": 33,
   "id": "a2ee011b-cbd3-4892-8b7d-158871c64aa6",
   "metadata": {},
   "outputs": [
    {
     "name": "stderr",
     "output_type": "stream",
     "text": [
      "/home/egp/repos/greenland-ird/basis/components/subglacial_drainage_system.py:328: RuntimeWarning: invalid value encountered in power\n",
      "  np.power(conduit_area, self.params[\"flow_exp\"])\n"
     ]
    }
   ],
   "source": [
    "grid.at_node['water__pressure'][:] = pw\n",
    "\n",
    "grid.at_link['effective_pressure'][:] = SDS._remap(\n",
    "    SDS._calc_pressure(grid.at_node['water__pressure'][:]), to = 'link'\n",
    ")\n",
    "\n",
    "grid.at_link['hydraulic__gradient'][:] = SDS._calc_hydraulic_gradient(\n",
    "    grid.at_link['effective_pressure'][:]\n",
    ")\n",
    "\n",
    "grid.at_link['water__discharge'][:] = SDS._calc_discharge(\n",
    "    grid.at_link['conduit__area'][:], grid.at_link['hydraulic__gradient'][:]\n",
    ")"
   ]
  }
 ],
 "metadata": {
  "kernelspec": {
   "display_name": "Python 3 (ipykernel)",
   "language": "python",
   "name": "python3"
  },
  "language_info": {
   "codemirror_mode": {
    "name": "ipython",
    "version": 3
   },
   "file_extension": ".py",
   "mimetype": "text/x-python",
   "name": "python",
   "nbconvert_exporter": "python",
   "pygments_lexer": "ipython3",
   "version": "3.10.6"
  }
 },
 "nbformat": 4,
 "nbformat_minor": 5
}
