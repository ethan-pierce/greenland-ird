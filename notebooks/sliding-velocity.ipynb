{
 "cells": [
  {
   "cell_type": "code",
   "execution_count": 1,
   "metadata": {},
   "outputs": [],
   "source": [
    "import numpy as np\n",
    "import matplotlib.pyplot as plt\n",
    "import os\n",
    "from netCDF4 import Dataset\n",
    "import geopandas as gpd\n",
    "import shapely\n",
    "from scipy.ndimage import gaussian_filter"
   ]
  },
  {
   "cell_type": "code",
   "execution_count": 2,
   "metadata": {},
   "outputs": [
    {
     "data": {
      "text/plain": [
       "dict_keys(['rolige-brae', 'eielson-gletsjer', 'graah-gletscher', 'bredegletsjer', 'kista-dan-gletsjer', 'sydbrae', 'magga-dan-gletsjer', 'dode-brae', 'charcot-gletscher', 'daugaard-jensen-gletsjer', 'vestfjord-gletsjer', 'kangilernata-sermia', 'sermeq-kullajeq', 'eqip-sermia', 'sermeq-avannarleq', 'kangiata-nunaata-sermia', 'akullersuup-sermia', 'narsap-sermia'])"
      ]
     },
     "execution_count": 2,
     "metadata": {},
     "output_type": "execute_result"
    }
   ],
   "source": [
    "masks = {}\n",
    "\n",
    "for path in os.listdir('../data/basin-outlines/CE/'):\n",
    "    glacier = path.split('/')[-1].replace('.geojson', '')\n",
    "    masks[glacier] = gpd.read_file('../data/basin-outlines/CE/' + path)\n",
    "for path in os.listdir('../data/basin-outlines/CW/'):\n",
    "    glacier = path.split('/')[-1].replace('.geojson', '')\n",
    "    masks[glacier] = gpd.read_file('../data/basin-outlines/CW/' + path)\n",
    "for path in os.listdir('../data/basin-outlines/SW/'):\n",
    "    glacier = path.split('/')[-1].replace('.geojson', '')\n",
    "    masks[glacier] = gpd.read_file('../data/basin-outlines/SW/' + path)\n",
    "\n",
    "masks.keys()"
   ]
  },
  {
   "cell_type": "code",
   "execution_count": 3,
   "metadata": {},
   "outputs": [
    {
     "data": {
      "text/plain": [
       "['../data/igm-inputs/graah-gletscher.nc',\n",
       " '../data/igm-inputs/daugaard-jensen-gletsjer.nc',\n",
       " '../data/igm-inputs/magga-dan-gletsjer.nc',\n",
       " '../data/igm-inputs/sermeq-avannarleq.nc',\n",
       " '../data/igm-inputs/charcot-gletscher.nc',\n",
       " '../data/igm-inputs/eqip-sermia.nc',\n",
       " '../data/igm-inputs/vestfjord-gletsjer.nc',\n",
       " '../data/igm-inputs/narsap-sermia.nc',\n",
       " '../data/igm-inputs/eielson-gletsjer.nc',\n",
       " '../data/igm-inputs/sermeq-kullajeq.nc',\n",
       " '../data/igm-inputs/kista-dan-gletsjer.nc',\n",
       " '../data/igm-inputs/dode-brae.nc',\n",
       " '../data/igm-inputs/bredegletsjer.nc',\n",
       " '../data/igm-inputs/akullersuup-sermia.nc',\n",
       " '../data/igm-inputs/kangiata-nunaata-sermia.nc',\n",
       " '../data/igm-inputs/kangilernata-sermia.nc',\n",
       " '../data/igm-inputs/rolige-brae.nc',\n",
       " '../data/igm-inputs/sydbrae.nc']"
      ]
     },
     "execution_count": 3,
     "metadata": {},
     "output_type": "execute_result"
    }
   ],
   "source": [
    "files = []\n",
    "\n",
    "for path in os.listdir('../data/igm-inputs'):\n",
    "    files.append('../data/igm-inputs/' + path)\n",
    "\n",
    "files"
   ]
  },
  {
   "cell_type": "code",
   "execution_count": 8,
   "metadata": {},
   "outputs": [
    {
     "name": "stdout",
     "output_type": "stream",
     "text": [
      "0\n",
      "1\n",
      "2\n",
      "3\n",
      "4\n",
      "5\n",
      "6\n",
      "7\n"
     ]
    },
    {
     "ename": "KeyboardInterrupt",
     "evalue": "",
     "output_type": "error",
     "traceback": [
      "\u001b[0;31m---------------------------------------------------------------------------\u001b[0m",
      "\u001b[0;31mKeyboardInterrupt\u001b[0m                         Traceback (most recent call last)",
      "Cell \u001b[0;32mIn[8], line 16\u001b[0m\n\u001b[1;32m     14\u001b[0m \u001b[39mfor\u001b[39;00m j \u001b[39min\u001b[39;00m np\u001b[39m.\u001b[39marange(xs\u001b[39m.\u001b[39mshape[\u001b[39m1\u001b[39m]):\n\u001b[1;32m     15\u001b[0m     point \u001b[39m=\u001b[39m shapely\u001b[39m.\u001b[39mPoint(xs[i, j], ys[i, j])\n\u001b[0;32m---> 16\u001b[0m     \u001b[39mif\u001b[39;00m series\u001b[39m.\u001b[39;49mgeometry\u001b[39m.\u001b[39;49mcontains(point)[\u001b[39m0\u001b[39m]:\n\u001b[1;32m     17\u001b[0m         mask[i, j] \u001b[39m=\u001b[39m \u001b[39m1\u001b[39m\n\u001b[1;32m     18\u001b[0m     \u001b[39melse\u001b[39;00m:\n",
      "File \u001b[0;32m~/dev/mambaforge/envs/landlab/lib/python3.10/site-packages/geopandas/base.py:985\u001b[0m, in \u001b[0;36mGeoPandasBase.contains\u001b[0;34m(self, other, align)\u001b[0m\n\u001b[1;32m    872\u001b[0m \u001b[39mdef\u001b[39;00m \u001b[39mcontains\u001b[39m(\u001b[39mself\u001b[39m, other, align\u001b[39m=\u001b[39m\u001b[39mTrue\u001b[39;00m):\n\u001b[1;32m    873\u001b[0m \u001b[39m    \u001b[39m\u001b[39m\"\"\"Returns a ``Series`` of ``dtype('bool')`` with value ``True`` for\u001b[39;00m\n\u001b[1;32m    874\u001b[0m \u001b[39m    each aligned geometry that contains `other`.\u001b[39;00m\n\u001b[1;32m    875\u001b[0m \n\u001b[0;32m   (...)\u001b[0m\n\u001b[1;32m    983\u001b[0m \u001b[39m    GeoSeries.within\u001b[39;00m\n\u001b[1;32m    984\u001b[0m \u001b[39m    \"\"\"\u001b[39;00m\n\u001b[0;32m--> 985\u001b[0m     \u001b[39mreturn\u001b[39;00m _binary_op(\u001b[39m\"\u001b[39;49m\u001b[39mcontains\u001b[39;49m\u001b[39m\"\u001b[39;49m, \u001b[39mself\u001b[39;49m, other, align)\n",
      "File \u001b[0;32m~/dev/mambaforge/envs/landlab/lib/python3.10/site-packages/geopandas/base.py:59\u001b[0m, in \u001b[0;36m_binary_op\u001b[0;34m(op, this, other, align, *args, **kwargs)\u001b[0m\n\u001b[1;32m     56\u001b[0m \u001b[39mdef\u001b[39;00m \u001b[39m_binary_op\u001b[39m(op, this, other, align, \u001b[39m*\u001b[39margs, \u001b[39m*\u001b[39m\u001b[39m*\u001b[39mkwargs):\n\u001b[1;32m     57\u001b[0m     \u001b[39m# type: (str, GeoSeries, GeoSeries, args/kwargs) -> Series[bool/float]\u001b[39;00m\n\u001b[1;32m     58\u001b[0m \u001b[39m    \u001b[39m\u001b[39m\"\"\"Binary operation on GeoSeries objects that returns a Series\"\"\"\u001b[39;00m\n\u001b[0;32m---> 59\u001b[0m     data, index \u001b[39m=\u001b[39m _delegate_binary_method(op, this, other, align, \u001b[39m*\u001b[39;49margs, \u001b[39m*\u001b[39;49m\u001b[39m*\u001b[39;49mkwargs)\n\u001b[1;32m     60\u001b[0m     \u001b[39mreturn\u001b[39;00m Series(data, index\u001b[39m=\u001b[39mindex)\n",
      "File \u001b[0;32m~/dev/mambaforge/envs/landlab/lib/python3.10/site-packages/geopandas/base.py:43\u001b[0m, in \u001b[0;36m_delegate_binary_method\u001b[0;34m(op, this, other, align, *args, **kwargs)\u001b[0m\n\u001b[1;32m     40\u001b[0m \u001b[39melse\u001b[39;00m:\n\u001b[1;32m     41\u001b[0m     \u001b[39mraise\u001b[39;00m \u001b[39mTypeError\u001b[39;00m(\u001b[39mtype\u001b[39m(this), \u001b[39mtype\u001b[39m(other))\n\u001b[0;32m---> 43\u001b[0m data \u001b[39m=\u001b[39m \u001b[39mgetattr\u001b[39;49m(a_this, op)(other, \u001b[39m*\u001b[39;49margs, \u001b[39m*\u001b[39;49m\u001b[39m*\u001b[39;49mkwargs)\n\u001b[1;32m     44\u001b[0m \u001b[39mreturn\u001b[39;00m data, this\u001b[39m.\u001b[39mindex\n",
      "File \u001b[0;32m~/dev/mambaforge/envs/landlab/lib/python3.10/site-packages/geopandas/array.py:575\u001b[0m, in \u001b[0;36mGeometryArray.contains\u001b[0;34m(self, other)\u001b[0m\n\u001b[1;32m    574\u001b[0m \u001b[39mdef\u001b[39;00m \u001b[39mcontains\u001b[39m(\u001b[39mself\u001b[39m, other):\n\u001b[0;32m--> 575\u001b[0m     \u001b[39mreturn\u001b[39;00m \u001b[39mself\u001b[39;49m\u001b[39m.\u001b[39;49m_binary_method(\u001b[39m\"\u001b[39;49m\u001b[39mcontains\u001b[39;49m\u001b[39m\"\u001b[39;49m, \u001b[39mself\u001b[39;49m, other)\n",
      "File \u001b[0;32m~/dev/mambaforge/envs/landlab/lib/python3.10/site-packages/geopandas/array.py:566\u001b[0m, in \u001b[0;36mGeometryArray._binary_method\u001b[0;34m(op, left, right, **kwargs)\u001b[0m\n\u001b[1;32m    563\u001b[0m         _crs_mismatch_warn(left, right, stacklevel\u001b[39m=\u001b[39m\u001b[39m7\u001b[39m)\n\u001b[1;32m    564\u001b[0m     right \u001b[39m=\u001b[39m right\u001b[39m.\u001b[39m_data\n\u001b[0;32m--> 566\u001b[0m \u001b[39mreturn\u001b[39;00m \u001b[39mgetattr\u001b[39;49m(vectorized, op)(left\u001b[39m.\u001b[39;49m_data, right, \u001b[39m*\u001b[39;49m\u001b[39m*\u001b[39;49mkwargs)\n",
      "File \u001b[0;32m~/dev/mambaforge/envs/landlab/lib/python3.10/site-packages/geopandas/_vectorized.py:730\u001b[0m, in \u001b[0;36mcontains\u001b[0;34m(data, other)\u001b[0m\n\u001b[1;32m    728\u001b[0m \u001b[39mdef\u001b[39;00m \u001b[39mcontains\u001b[39m(data, other):\n\u001b[1;32m    729\u001b[0m     \u001b[39mif\u001b[39;00m compat\u001b[39m.\u001b[39mUSE_SHAPELY_20:\n\u001b[0;32m--> 730\u001b[0m         \u001b[39mreturn\u001b[39;00m shapely\u001b[39m.\u001b[39;49mcontains(data, other)\n\u001b[1;32m    731\u001b[0m     \u001b[39melif\u001b[39;00m compat\u001b[39m.\u001b[39mUSE_PYGEOS:\n\u001b[1;32m    732\u001b[0m         \u001b[39mreturn\u001b[39;00m _binary_method(\u001b[39m\"\u001b[39m\u001b[39mcontains\u001b[39m\u001b[39m\"\u001b[39m, data, other)\n",
      "File \u001b[0;32m~/dev/mambaforge/envs/landlab/lib/python3.10/site-packages/shapely/decorators.py:77\u001b[0m, in \u001b[0;36mmultithreading_enabled.<locals>.wrapped\u001b[0;34m(*args, **kwargs)\u001b[0m\n\u001b[1;32m     75\u001b[0m     \u001b[39mfor\u001b[39;00m arr \u001b[39min\u001b[39;00m array_args:\n\u001b[1;32m     76\u001b[0m         arr\u001b[39m.\u001b[39mflags\u001b[39m.\u001b[39mwriteable \u001b[39m=\u001b[39m \u001b[39mFalse\u001b[39;00m\n\u001b[0;32m---> 77\u001b[0m     \u001b[39mreturn\u001b[39;00m func(\u001b[39m*\u001b[39;49margs, \u001b[39m*\u001b[39;49m\u001b[39m*\u001b[39;49mkwargs)\n\u001b[1;32m     78\u001b[0m \u001b[39mfinally\u001b[39;00m:\n\u001b[1;32m     79\u001b[0m     \u001b[39mfor\u001b[39;00m arr, old_flag \u001b[39min\u001b[39;00m \u001b[39mzip\u001b[39m(array_args, old_flags):\n",
      "File \u001b[0;32m~/dev/mambaforge/envs/landlab/lib/python3.10/site-packages/shapely/predicates.py:540\u001b[0m, in \u001b[0;36mcontains\u001b[0;34m(a, b, **kwargs)\u001b[0m\n\u001b[1;32m    485\u001b[0m \u001b[39m@multithreading_enabled\u001b[39m\n\u001b[1;32m    486\u001b[0m \u001b[39mdef\u001b[39;00m \u001b[39mcontains\u001b[39m(a, b, \u001b[39m*\u001b[39m\u001b[39m*\u001b[39mkwargs):\n\u001b[1;32m    487\u001b[0m \u001b[39m    \u001b[39m\u001b[39m\"\"\"Returns True if geometry B is completely inside geometry A.\u001b[39;00m\n\u001b[1;32m    488\u001b[0m \n\u001b[1;32m    489\u001b[0m \u001b[39m    A contains B if no points of B lie in the exterior of A and at least one\u001b[39;00m\n\u001b[0;32m   (...)\u001b[0m\n\u001b[1;32m    538\u001b[0m \u001b[39m    False\u001b[39;00m\n\u001b[1;32m    539\u001b[0m \u001b[39m    \"\"\"\u001b[39;00m\n\u001b[0;32m--> 540\u001b[0m     \u001b[39mreturn\u001b[39;00m lib\u001b[39m.\u001b[39;49mcontains(a, b, \u001b[39m*\u001b[39;49m\u001b[39m*\u001b[39;49mkwargs)\n",
      "\u001b[0;31mKeyboardInterrupt\u001b[0m: "
     ]
    }
   ],
   "source": [
    "for f in files:\n",
    "    ds = Dataset(f)\n",
    "\n",
    "    glacier = f.split('/')[-1].replace('.nc', '')\n",
    "    series = masks[glacier]\n",
    "\n",
    "    xs, ys = np.meshgrid(ds.variables['x'], ds.variables['y'])\n",
    "    xs += series.geometry.centroid[0].x\n",
    "    ys += series.geometry.centroid[0].y\n",
    "\n",
    "    mask = np.zeros_like(xs)\n",
    "\n",
    "    for i in np.arange(xs.shape[0]):\n",
    "        for j in np.arange(xs.shape[1]):\n",
    "            point = shapely.Point(xs[i, j], ys[i, j])\n",
    "            if series.geometry.contains(point)[0]:\n",
    "                mask[i, j] = 1\n",
    "            else:\n",
    "                mask[i, j] = 0\n",
    "    \n",
    "    plt.imshow(mask)\n",
    "    plt.show()\n",
    "\n",
    "    break\n",
    "\n",
    "\n",
    "    \n",
    "    Us = np.sqrt(ds.variables['uvelsurfobs'][:]**2 + ds.variables['vvelsurfobs'][:]**2)\n",
    "\n",
    "    S = ds.variables['usurfobs'][:]\n",
    "    for i in range(10):\n",
    "        S = gaussian_filter(S, sigma = 10)\n",
    "\n",
    "    grad_vector = np.gradient(S, np.diff(ds.variables['x'])[0])\n",
    "    gradS = np.sqrt(grad_vector[0]**2 + grad_vector[1]**2)\n",
    "\n",
    "    gamma = 2.2e-5\n",
    "    Ud = gamma * ds.variables['thkobs'][:]**4 * np.abs(gradS)**3\n",
    "\n",
    "    fig, ax = plt.subplots(figsize = (12, 6))\n",
    "    im = ax.imshow(np.where(ds.variables['thkobs'][:] > 0.5, np.where(Us > Ud, Us - Ud, 0.0), np.nan))\n",
    "    plt.colorbar(im)\n",
    "    plt.title(glacier.replace('-', ' ').capitalize())\n",
    "    plt.show()"
   ]
  },
  {
   "cell_type": "code",
   "execution_count": null,
   "metadata": {},
   "outputs": [],
   "source": []
  }
 ],
 "metadata": {
  "kernelspec": {
   "display_name": "landlab",
   "language": "python",
   "name": "python3"
  },
  "language_info": {
   "codemirror_mode": {
    "name": "ipython",
    "version": 3
   },
   "file_extension": ".py",
   "mimetype": "text/x-python",
   "name": "python",
   "nbconvert_exporter": "python",
   "pygments_lexer": "ipython3",
   "version": "3.10.12"
  },
  "orig_nbformat": 4
 },
 "nbformat": 4,
 "nbformat_minor": 2
}
